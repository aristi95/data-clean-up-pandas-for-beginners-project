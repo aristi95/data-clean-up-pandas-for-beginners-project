{
 "cells": [
  {
   "cell_type": "markdown",
   "id": "6c9a1a29",
   "metadata": {},
   "source": [
    "# Basic Python Practices\n",
    "\n",
    "#### Exercise 00. Variable Declaration\n",
    "\n",
    "Define the following variables with values of your choice:\n",
    "\n",
    "- A variable that stores your name (text).\n",
    "- A variable that stores your age (integer).\n",
    "- A variable that indicates if you like programming (true or false).\n",
    "- A variable that stores your average grade (decimal number)."
   ]
  },
  {
   "cell_type": "code",
   "execution_count": null,
   "id": "04495cc0",
   "metadata": {},
   "outputs": [
    {
     "name": "stdout",
     "output_type": "stream",
     "text": [
      "False\n"
     ]
    }
   ],
   "source": [
    "# Declare your variables here.\n",
    "name = 'Daniel'\n",
    "age = 29\n",
    "doIlike = bool()\n",
    "avgrade = 10.0\n",
    "#Example\n",
    "greeting = \"Hello world\""
   ]
  },
  {
   "cell_type": "markdown",
   "id": "92b948f4",
   "metadata": {},
   "source": [
    "- Create a list with your five favorite numbers and print it."
   ]
  },
  {
   "cell_type": "code",
   "execution_count": 1,
   "id": "cb7a4019",
   "metadata": {},
   "outputs": [
    {
     "name": "stdout",
     "output_type": "stream",
     "text": [
      "[1, 2, 3, 4, 5]\n"
     ]
    }
   ],
   "source": [
    "# Favorite numbers list\n",
    "nums = [1,2,3,4,5]\n",
    "print(nums)"
   ]
  },
  {
   "cell_type": "markdown",
   "id": "04332f35",
   "metadata": {},
   "source": [
    "- Create a dictionary that stores a student's information and print it:\n",
    "\n",
    "        - Name\n",
    "        - Age\n",
    "        - Final grade"
   ]
  },
  {
   "cell_type": "code",
   "execution_count": 14,
   "id": "7997e8d0",
   "metadata": {},
   "outputs": [
    {
     "name": "stdout",
     "output_type": "stream",
     "text": [
      "{'Name': 'Daniel', 'Age': 29, 'Final grade': 10}\n"
     ]
    }
   ],
   "source": [
    "#TODO\n",
    "student = {\n",
    "    'Name': 'Daniel',\n",
    "    'Age': 29,\n",
    "    'Final grade': 10\n",
    "}\n",
    "\n",
    "print(student)"
   ]
  },
  {
   "cell_type": "markdown",
   "id": "5dbaa835",
   "metadata": {},
   "source": [
    "#### Exercise 01. Basic data analysis with native Python structures.  \n",
    "Create a list with the grades of 5 students: [8.5, 9.2, 7.8, 8.9, 10].\n",
    "\n",
    "- Calculate the average of the grades."
   ]
  },
  {
   "cell_type": "code",
   "execution_count": 9,
   "id": "6f5ee032",
   "metadata": {},
   "outputs": [
    {
     "name": "stdout",
     "output_type": "stream",
     "text": [
      "8.879999999999999\n"
     ]
    }
   ],
   "source": [
    "# TODO\n",
    "import numpy as np\n",
    "grades = [8.5, 9.2, 7.8, 8.9, 10]\n",
    "print(np.mean(grades))"
   ]
  },
  {
   "cell_type": "markdown",
   "id": "20da3fc1",
   "metadata": {},
   "source": [
    "- Find the highest and lowest grade."
   ]
  },
  {
   "cell_type": "code",
   "execution_count": 11,
   "id": "4396c1a4",
   "metadata": {},
   "outputs": [
    {
     "name": "stdout",
     "output_type": "stream",
     "text": [
      "Highest grade: 10.0 and lowest grade: 7.8\n"
     ]
    }
   ],
   "source": [
    "# TODO\n",
    "import numpy as np\n",
    "grades = [8.5, 9.2, 7.8, 8.9, 10]\n",
    "high = np.max(grades)\n",
    "low = np.min(grades)\n",
    "print('Highest grade: ' + str(high) + ' and lowest grade: ' + str(low))"
   ]
  },
  {
   "cell_type": "markdown",
   "id": "5d7e1112",
   "metadata": {},
   "source": [
    "# Real estate data cleaning with Pandas for efficient analysis\n",
    "\n",
    "This is a real dataset that was downloaded using web scraping techniques. The data contains records from **Fotocasa**, one of the most popular real estate websites in Spain. Please do not perform web scraping unless it is for academic purposes.\n",
    "\n",
    "The dataset was downloaded a few years ago by Henry Navarro, and no economic benefit was obtained from it.\n",
    "\n",
    "It contains thousands of real house listings published on the website www.fotocasa.com. Your goal is to extract as much information as possible with the data science knowledge you have acquired so far.\n",
    "\n",
    "Let's get started!\n",
    "\n",
    "- First, let's read and explore the dataset."
   ]
  },
  {
   "cell_type": "code",
   "execution_count": 15,
   "id": "7ac6cb18",
   "metadata": {},
   "outputs": [
    {
     "data": {
      "text/html": [
       "<div>\n",
       "<style scoped>\n",
       "    .dataframe tbody tr th:only-of-type {\n",
       "        vertical-align: middle;\n",
       "    }\n",
       "\n",
       "    .dataframe tbody tr th {\n",
       "        vertical-align: top;\n",
       "    }\n",
       "\n",
       "    .dataframe thead th {\n",
       "        text-align: right;\n",
       "    }\n",
       "</style>\n",
       "<table border=\"1\" class=\"dataframe\">\n",
       "  <thead>\n",
       "    <tr style=\"text-align: right;\">\n",
       "      <th></th>\n",
       "      <th>Unnamed: 0</th>\n",
       "      <th>id_realEstates</th>\n",
       "      <th>isNew</th>\n",
       "      <th>realEstate_name</th>\n",
       "      <th>phone_realEstate</th>\n",
       "      <th>url_inmueble</th>\n",
       "      <th>rooms</th>\n",
       "      <th>bathrooms</th>\n",
       "      <th>surface</th>\n",
       "      <th>price</th>\n",
       "      <th>...</th>\n",
       "      <th>level4Id</th>\n",
       "      <th>level5Id</th>\n",
       "      <th>level6Id</th>\n",
       "      <th>level7Id</th>\n",
       "      <th>level8Id</th>\n",
       "      <th>accuracy</th>\n",
       "      <th>latitude</th>\n",
       "      <th>longitude</th>\n",
       "      <th>zipCode</th>\n",
       "      <th>customZone</th>\n",
       "    </tr>\n",
       "  </thead>\n",
       "  <tbody>\n",
       "    <tr>\n",
       "      <th>0</th>\n",
       "      <td>1</td>\n",
       "      <td>153771986</td>\n",
       "      <td>False</td>\n",
       "      <td>ferrari 57 inmobiliaria</td>\n",
       "      <td>912177526.0</td>\n",
       "      <td>https://www.fotocasa.es/es/comprar/vivienda/ma...</td>\n",
       "      <td>3.0</td>\n",
       "      <td>2.0</td>\n",
       "      <td>103.0</td>\n",
       "      <td>195000</td>\n",
       "      <td>...</td>\n",
       "      <td>0</td>\n",
       "      <td>0</td>\n",
       "      <td>0</td>\n",
       "      <td>0</td>\n",
       "      <td>0</td>\n",
       "      <td>0</td>\n",
       "      <td>40,2948276786438</td>\n",
       "      <td>-3,44402412135624</td>\n",
       "      <td>NaN</td>\n",
       "      <td>NaN</td>\n",
       "    </tr>\n",
       "    <tr>\n",
       "      <th>1</th>\n",
       "      <td>2</td>\n",
       "      <td>153867863</td>\n",
       "      <td>False</td>\n",
       "      <td>tecnocasa fuenlabrada ferrocarril</td>\n",
       "      <td>916358736.0</td>\n",
       "      <td>https://www.fotocasa.es/es/comprar/vivienda/ma...</td>\n",
       "      <td>3.0</td>\n",
       "      <td>1.0</td>\n",
       "      <td>NaN</td>\n",
       "      <td>89000</td>\n",
       "      <td>...</td>\n",
       "      <td>0</td>\n",
       "      <td>0</td>\n",
       "      <td>0</td>\n",
       "      <td>0</td>\n",
       "      <td>0</td>\n",
       "      <td>1</td>\n",
       "      <td>40,28674</td>\n",
       "      <td>-3,79351</td>\n",
       "      <td>NaN</td>\n",
       "      <td>NaN</td>\n",
       "    </tr>\n",
       "    <tr>\n",
       "      <th>2</th>\n",
       "      <td>3</td>\n",
       "      <td>153430440</td>\n",
       "      <td>False</td>\n",
       "      <td>look find boadilla</td>\n",
       "      <td>916350408.0</td>\n",
       "      <td>https://www.fotocasa.es/es/comprar/vivienda/ma...</td>\n",
       "      <td>2.0</td>\n",
       "      <td>2.0</td>\n",
       "      <td>99.0</td>\n",
       "      <td>390000</td>\n",
       "      <td>...</td>\n",
       "      <td>0</td>\n",
       "      <td>0</td>\n",
       "      <td>0</td>\n",
       "      <td>0</td>\n",
       "      <td>0</td>\n",
       "      <td>0</td>\n",
       "      <td>40,4115646786438</td>\n",
       "      <td>-3,90662252135624</td>\n",
       "      <td>NaN</td>\n",
       "      <td>NaN</td>\n",
       "    </tr>\n",
       "    <tr>\n",
       "      <th>3</th>\n",
       "      <td>4</td>\n",
       "      <td>152776331</td>\n",
       "      <td>False</td>\n",
       "      <td>tecnocasa fuenlabrada ferrocarril</td>\n",
       "      <td>916358736.0</td>\n",
       "      <td>https://www.fotocasa.es/es/comprar/vivienda/ma...</td>\n",
       "      <td>3.0</td>\n",
       "      <td>1.0</td>\n",
       "      <td>86.0</td>\n",
       "      <td>89000</td>\n",
       "      <td>...</td>\n",
       "      <td>0</td>\n",
       "      <td>0</td>\n",
       "      <td>0</td>\n",
       "      <td>0</td>\n",
       "      <td>0</td>\n",
       "      <td>0</td>\n",
       "      <td>40,2853785786438</td>\n",
       "      <td>-3,79508142135624</td>\n",
       "      <td>NaN</td>\n",
       "      <td>NaN</td>\n",
       "    </tr>\n",
       "    <tr>\n",
       "      <th>4</th>\n",
       "      <td>5</td>\n",
       "      <td>153180188</td>\n",
       "      <td>False</td>\n",
       "      <td>ferrari 57 inmobiliaria</td>\n",
       "      <td>912177526.0</td>\n",
       "      <td>https://www.fotocasa.es/es/comprar/vivienda/ma...</td>\n",
       "      <td>2.0</td>\n",
       "      <td>2.0</td>\n",
       "      <td>106.0</td>\n",
       "      <td>172000</td>\n",
       "      <td>...</td>\n",
       "      <td>0</td>\n",
       "      <td>0</td>\n",
       "      <td>0</td>\n",
       "      <td>0</td>\n",
       "      <td>0</td>\n",
       "      <td>0</td>\n",
       "      <td>40,2998774864376</td>\n",
       "      <td>-3,45226301356237</td>\n",
       "      <td>NaN</td>\n",
       "      <td>NaN</td>\n",
       "    </tr>\n",
       "    <tr>\n",
       "      <th>...</th>\n",
       "      <td>...</td>\n",
       "      <td>...</td>\n",
       "      <td>...</td>\n",
       "      <td>...</td>\n",
       "      <td>...</td>\n",
       "      <td>...</td>\n",
       "      <td>...</td>\n",
       "      <td>...</td>\n",
       "      <td>...</td>\n",
       "      <td>...</td>\n",
       "      <td>...</td>\n",
       "      <td>...</td>\n",
       "      <td>...</td>\n",
       "      <td>...</td>\n",
       "      <td>...</td>\n",
       "      <td>...</td>\n",
       "      <td>...</td>\n",
       "      <td>...</td>\n",
       "      <td>...</td>\n",
       "      <td>...</td>\n",
       "      <td>...</td>\n",
       "    </tr>\n",
       "    <tr>\n",
       "      <th>15330</th>\n",
       "      <td>15331</td>\n",
       "      <td>153901377</td>\n",
       "      <td>False</td>\n",
       "      <td>infocasa consulting</td>\n",
       "      <td>911360461.0</td>\n",
       "      <td>https://www.fotocasa.es/es/comprar/vivienda/ma...</td>\n",
       "      <td>2.0</td>\n",
       "      <td>1.0</td>\n",
       "      <td>96.0</td>\n",
       "      <td>259470</td>\n",
       "      <td>...</td>\n",
       "      <td>0</td>\n",
       "      <td>0</td>\n",
       "      <td>0</td>\n",
       "      <td>0</td>\n",
       "      <td>0</td>\n",
       "      <td>0</td>\n",
       "      <td>40,45416</td>\n",
       "      <td>-3,70286</td>\n",
       "      <td>NaN</td>\n",
       "      <td>NaN</td>\n",
       "    </tr>\n",
       "    <tr>\n",
       "      <th>15331</th>\n",
       "      <td>15332</td>\n",
       "      <td>150394373</td>\n",
       "      <td>False</td>\n",
       "      <td>inmobiliaria pulpon</td>\n",
       "      <td>912788039.0</td>\n",
       "      <td>https://www.fotocasa.es/es/comprar/vivienda/ma...</td>\n",
       "      <td>3.0</td>\n",
       "      <td>1.0</td>\n",
       "      <td>150.0</td>\n",
       "      <td>165000</td>\n",
       "      <td>...</td>\n",
       "      <td>0</td>\n",
       "      <td>0</td>\n",
       "      <td>0</td>\n",
       "      <td>0</td>\n",
       "      <td>0</td>\n",
       "      <td>0</td>\n",
       "      <td>40,36652</td>\n",
       "      <td>-3,48951</td>\n",
       "      <td>NaN</td>\n",
       "      <td>NaN</td>\n",
       "    </tr>\n",
       "    <tr>\n",
       "      <th>15332</th>\n",
       "      <td>15333</td>\n",
       "      <td>153901397</td>\n",
       "      <td>False</td>\n",
       "      <td>tecnocasa torrelodones</td>\n",
       "      <td>912780348.0</td>\n",
       "      <td>https://www.fotocasa.es/es/comprar/vivienda/ma...</td>\n",
       "      <td>4.0</td>\n",
       "      <td>2.0</td>\n",
       "      <td>175.0</td>\n",
       "      <td>495000</td>\n",
       "      <td>...</td>\n",
       "      <td>0</td>\n",
       "      <td>0</td>\n",
       "      <td>0</td>\n",
       "      <td>0</td>\n",
       "      <td>0</td>\n",
       "      <td>0</td>\n",
       "      <td>40,57444</td>\n",
       "      <td>-3,92124</td>\n",
       "      <td>NaN</td>\n",
       "      <td>NaN</td>\n",
       "    </tr>\n",
       "    <tr>\n",
       "      <th>15333</th>\n",
       "      <td>15334</td>\n",
       "      <td>152607440</td>\n",
       "      <td>False</td>\n",
       "      <td>inmobiliaria pulpon</td>\n",
       "      <td>912788039.0</td>\n",
       "      <td>https://www.fotocasa.es/es/comprar/vivienda/ma...</td>\n",
       "      <td>3.0</td>\n",
       "      <td>2.0</td>\n",
       "      <td>101.0</td>\n",
       "      <td>195000</td>\n",
       "      <td>...</td>\n",
       "      <td>0</td>\n",
       "      <td>0</td>\n",
       "      <td>0</td>\n",
       "      <td>0</td>\n",
       "      <td>0</td>\n",
       "      <td>0</td>\n",
       "      <td>40,36967</td>\n",
       "      <td>-3,48105</td>\n",
       "      <td>NaN</td>\n",
       "      <td>NaN</td>\n",
       "    </tr>\n",
       "    <tr>\n",
       "      <th>15334</th>\n",
       "      <td>15335</td>\n",
       "      <td>153901356</td>\n",
       "      <td>False</td>\n",
       "      <td>infocasa consulting</td>\n",
       "      <td>911360461.0</td>\n",
       "      <td>https://www.fotocasa.es/es/comprar/vivienda/ma...</td>\n",
       "      <td>3.0</td>\n",
       "      <td>2.0</td>\n",
       "      <td>152.0</td>\n",
       "      <td>765000</td>\n",
       "      <td>...</td>\n",
       "      <td>0</td>\n",
       "      <td>0</td>\n",
       "      <td>0</td>\n",
       "      <td>0</td>\n",
       "      <td>0</td>\n",
       "      <td>0</td>\n",
       "      <td>40,45773</td>\n",
       "      <td>-3,69068</td>\n",
       "      <td>NaN</td>\n",
       "      <td>NaN</td>\n",
       "    </tr>\n",
       "  </tbody>\n",
       "</table>\n",
       "<p>15335 rows × 37 columns</p>\n",
       "</div>"
      ],
      "text/plain": [
       "       Unnamed: 0  id_realEstates  isNew                    realEstate_name  \\\n",
       "0               1       153771986  False            ferrari 57 inmobiliaria   \n",
       "1               2       153867863  False  tecnocasa fuenlabrada ferrocarril   \n",
       "2               3       153430440  False                 look find boadilla   \n",
       "3               4       152776331  False  tecnocasa fuenlabrada ferrocarril   \n",
       "4               5       153180188  False            ferrari 57 inmobiliaria   \n",
       "...           ...             ...    ...                                ...   \n",
       "15330       15331       153901377  False                infocasa consulting   \n",
       "15331       15332       150394373  False                inmobiliaria pulpon   \n",
       "15332       15333       153901397  False             tecnocasa torrelodones   \n",
       "15333       15334       152607440  False                inmobiliaria pulpon   \n",
       "15334       15335       153901356  False                infocasa consulting   \n",
       "\n",
       "       phone_realEstate                                       url_inmueble  \\\n",
       "0           912177526.0  https://www.fotocasa.es/es/comprar/vivienda/ma...   \n",
       "1           916358736.0  https://www.fotocasa.es/es/comprar/vivienda/ma...   \n",
       "2           916350408.0  https://www.fotocasa.es/es/comprar/vivienda/ma...   \n",
       "3           916358736.0  https://www.fotocasa.es/es/comprar/vivienda/ma...   \n",
       "4           912177526.0  https://www.fotocasa.es/es/comprar/vivienda/ma...   \n",
       "...                 ...                                                ...   \n",
       "15330       911360461.0  https://www.fotocasa.es/es/comprar/vivienda/ma...   \n",
       "15331       912788039.0  https://www.fotocasa.es/es/comprar/vivienda/ma...   \n",
       "15332       912780348.0  https://www.fotocasa.es/es/comprar/vivienda/ma...   \n",
       "15333       912788039.0  https://www.fotocasa.es/es/comprar/vivienda/ma...   \n",
       "15334       911360461.0  https://www.fotocasa.es/es/comprar/vivienda/ma...   \n",
       "\n",
       "       rooms  bathrooms  surface   price  ... level4Id level5Id level6Id  \\\n",
       "0        3.0        2.0    103.0  195000  ...        0        0        0   \n",
       "1        3.0        1.0      NaN   89000  ...        0        0        0   \n",
       "2        2.0        2.0     99.0  390000  ...        0        0        0   \n",
       "3        3.0        1.0     86.0   89000  ...        0        0        0   \n",
       "4        2.0        2.0    106.0  172000  ...        0        0        0   \n",
       "...      ...        ...      ...     ...  ...      ...      ...      ...   \n",
       "15330    2.0        1.0     96.0  259470  ...        0        0        0   \n",
       "15331    3.0        1.0    150.0  165000  ...        0        0        0   \n",
       "15332    4.0        2.0    175.0  495000  ...        0        0        0   \n",
       "15333    3.0        2.0    101.0  195000  ...        0        0        0   \n",
       "15334    3.0        2.0    152.0  765000  ...        0        0        0   \n",
       "\n",
       "      level7Id level8Id accuracy          latitude          longitude zipCode  \\\n",
       "0            0        0        0  40,2948276786438  -3,44402412135624     NaN   \n",
       "1            0        0        1          40,28674           -3,79351     NaN   \n",
       "2            0        0        0  40,4115646786438  -3,90662252135624     NaN   \n",
       "3            0        0        0  40,2853785786438  -3,79508142135624     NaN   \n",
       "4            0        0        0  40,2998774864376  -3,45226301356237     NaN   \n",
       "...        ...      ...      ...               ...                ...     ...   \n",
       "15330        0        0        0          40,45416           -3,70286     NaN   \n",
       "15331        0        0        0          40,36652           -3,48951     NaN   \n",
       "15332        0        0        0          40,57444           -3,92124     NaN   \n",
       "15333        0        0        0          40,36967           -3,48105     NaN   \n",
       "15334        0        0        0          40,45773           -3,69068     NaN   \n",
       "\n",
       "      customZone  \n",
       "0            NaN  \n",
       "1            NaN  \n",
       "2            NaN  \n",
       "3            NaN  \n",
       "4            NaN  \n",
       "...          ...  \n",
       "15330        NaN  \n",
       "15331        NaN  \n",
       "15332        NaN  \n",
       "15333        NaN  \n",
       "15334        NaN  \n",
       "\n",
       "[15335 rows x 37 columns]"
      ]
     },
     "execution_count": 15,
     "metadata": {},
     "output_type": "execute_result"
    }
   ],
   "source": [
    "import pandas as pd\n",
    "\n",
    "# Leer el archivo CSV\n",
    "ds = pd.read_csv('assets/real_estate.csv', sep=';') # Este archivo CSV contiene puntos y comas en lugar de comas como separadores\n",
    "ds # mostramos todo"
   ]
  },
  {
   "cell_type": "markdown",
   "id": "7c9f690a",
   "metadata": {},
   "source": [
    "- Display the first rows of the CSV file."
   ]
  },
  {
   "cell_type": "code",
   "execution_count": 16,
   "id": "a8ff6c53",
   "metadata": {},
   "outputs": [
    {
     "data": {
      "text/html": [
       "<div>\n",
       "<style scoped>\n",
       "    .dataframe tbody tr th:only-of-type {\n",
       "        vertical-align: middle;\n",
       "    }\n",
       "\n",
       "    .dataframe tbody tr th {\n",
       "        vertical-align: top;\n",
       "    }\n",
       "\n",
       "    .dataframe thead th {\n",
       "        text-align: right;\n",
       "    }\n",
       "</style>\n",
       "<table border=\"1\" class=\"dataframe\">\n",
       "  <thead>\n",
       "    <tr style=\"text-align: right;\">\n",
       "      <th></th>\n",
       "      <th>Unnamed: 0</th>\n",
       "      <th>id_realEstates</th>\n",
       "      <th>isNew</th>\n",
       "      <th>realEstate_name</th>\n",
       "      <th>phone_realEstate</th>\n",
       "      <th>url_inmueble</th>\n",
       "      <th>rooms</th>\n",
       "      <th>bathrooms</th>\n",
       "      <th>surface</th>\n",
       "      <th>price</th>\n",
       "      <th>...</th>\n",
       "      <th>level4Id</th>\n",
       "      <th>level5Id</th>\n",
       "      <th>level6Id</th>\n",
       "      <th>level7Id</th>\n",
       "      <th>level8Id</th>\n",
       "      <th>accuracy</th>\n",
       "      <th>latitude</th>\n",
       "      <th>longitude</th>\n",
       "      <th>zipCode</th>\n",
       "      <th>customZone</th>\n",
       "    </tr>\n",
       "  </thead>\n",
       "  <tbody>\n",
       "    <tr>\n",
       "      <th>0</th>\n",
       "      <td>1</td>\n",
       "      <td>153771986</td>\n",
       "      <td>False</td>\n",
       "      <td>ferrari 57 inmobiliaria</td>\n",
       "      <td>912177526.0</td>\n",
       "      <td>https://www.fotocasa.es/es/comprar/vivienda/ma...</td>\n",
       "      <td>3.0</td>\n",
       "      <td>2.0</td>\n",
       "      <td>103.0</td>\n",
       "      <td>195000</td>\n",
       "      <td>...</td>\n",
       "      <td>0</td>\n",
       "      <td>0</td>\n",
       "      <td>0</td>\n",
       "      <td>0</td>\n",
       "      <td>0</td>\n",
       "      <td>0</td>\n",
       "      <td>40,2948276786438</td>\n",
       "      <td>-3,44402412135624</td>\n",
       "      <td>NaN</td>\n",
       "      <td>NaN</td>\n",
       "    </tr>\n",
       "    <tr>\n",
       "      <th>1</th>\n",
       "      <td>2</td>\n",
       "      <td>153867863</td>\n",
       "      <td>False</td>\n",
       "      <td>tecnocasa fuenlabrada ferrocarril</td>\n",
       "      <td>916358736.0</td>\n",
       "      <td>https://www.fotocasa.es/es/comprar/vivienda/ma...</td>\n",
       "      <td>3.0</td>\n",
       "      <td>1.0</td>\n",
       "      <td>NaN</td>\n",
       "      <td>89000</td>\n",
       "      <td>...</td>\n",
       "      <td>0</td>\n",
       "      <td>0</td>\n",
       "      <td>0</td>\n",
       "      <td>0</td>\n",
       "      <td>0</td>\n",
       "      <td>1</td>\n",
       "      <td>40,28674</td>\n",
       "      <td>-3,79351</td>\n",
       "      <td>NaN</td>\n",
       "      <td>NaN</td>\n",
       "    </tr>\n",
       "    <tr>\n",
       "      <th>2</th>\n",
       "      <td>3</td>\n",
       "      <td>153430440</td>\n",
       "      <td>False</td>\n",
       "      <td>look find boadilla</td>\n",
       "      <td>916350408.0</td>\n",
       "      <td>https://www.fotocasa.es/es/comprar/vivienda/ma...</td>\n",
       "      <td>2.0</td>\n",
       "      <td>2.0</td>\n",
       "      <td>99.0</td>\n",
       "      <td>390000</td>\n",
       "      <td>...</td>\n",
       "      <td>0</td>\n",
       "      <td>0</td>\n",
       "      <td>0</td>\n",
       "      <td>0</td>\n",
       "      <td>0</td>\n",
       "      <td>0</td>\n",
       "      <td>40,4115646786438</td>\n",
       "      <td>-3,90662252135624</td>\n",
       "      <td>NaN</td>\n",
       "      <td>NaN</td>\n",
       "    </tr>\n",
       "    <tr>\n",
       "      <th>3</th>\n",
       "      <td>4</td>\n",
       "      <td>152776331</td>\n",
       "      <td>False</td>\n",
       "      <td>tecnocasa fuenlabrada ferrocarril</td>\n",
       "      <td>916358736.0</td>\n",
       "      <td>https://www.fotocasa.es/es/comprar/vivienda/ma...</td>\n",
       "      <td>3.0</td>\n",
       "      <td>1.0</td>\n",
       "      <td>86.0</td>\n",
       "      <td>89000</td>\n",
       "      <td>...</td>\n",
       "      <td>0</td>\n",
       "      <td>0</td>\n",
       "      <td>0</td>\n",
       "      <td>0</td>\n",
       "      <td>0</td>\n",
       "      <td>0</td>\n",
       "      <td>40,2853785786438</td>\n",
       "      <td>-3,79508142135624</td>\n",
       "      <td>NaN</td>\n",
       "      <td>NaN</td>\n",
       "    </tr>\n",
       "    <tr>\n",
       "      <th>4</th>\n",
       "      <td>5</td>\n",
       "      <td>153180188</td>\n",
       "      <td>False</td>\n",
       "      <td>ferrari 57 inmobiliaria</td>\n",
       "      <td>912177526.0</td>\n",
       "      <td>https://www.fotocasa.es/es/comprar/vivienda/ma...</td>\n",
       "      <td>2.0</td>\n",
       "      <td>2.0</td>\n",
       "      <td>106.0</td>\n",
       "      <td>172000</td>\n",
       "      <td>...</td>\n",
       "      <td>0</td>\n",
       "      <td>0</td>\n",
       "      <td>0</td>\n",
       "      <td>0</td>\n",
       "      <td>0</td>\n",
       "      <td>0</td>\n",
       "      <td>40,2998774864376</td>\n",
       "      <td>-3,45226301356237</td>\n",
       "      <td>NaN</td>\n",
       "      <td>NaN</td>\n",
       "    </tr>\n",
       "  </tbody>\n",
       "</table>\n",
       "<p>5 rows × 37 columns</p>\n",
       "</div>"
      ],
      "text/plain": [
       "   Unnamed: 0  id_realEstates  isNew                    realEstate_name  \\\n",
       "0           1       153771986  False            ferrari 57 inmobiliaria   \n",
       "1           2       153867863  False  tecnocasa fuenlabrada ferrocarril   \n",
       "2           3       153430440  False                 look find boadilla   \n",
       "3           4       152776331  False  tecnocasa fuenlabrada ferrocarril   \n",
       "4           5       153180188  False            ferrari 57 inmobiliaria   \n",
       "\n",
       "   phone_realEstate                                       url_inmueble  rooms  \\\n",
       "0       912177526.0  https://www.fotocasa.es/es/comprar/vivienda/ma...    3.0   \n",
       "1       916358736.0  https://www.fotocasa.es/es/comprar/vivienda/ma...    3.0   \n",
       "2       916350408.0  https://www.fotocasa.es/es/comprar/vivienda/ma...    2.0   \n",
       "3       916358736.0  https://www.fotocasa.es/es/comprar/vivienda/ma...    3.0   \n",
       "4       912177526.0  https://www.fotocasa.es/es/comprar/vivienda/ma...    2.0   \n",
       "\n",
       "   bathrooms  surface   price  ... level4Id level5Id level6Id level7Id  \\\n",
       "0        2.0    103.0  195000  ...        0        0        0        0   \n",
       "1        1.0      NaN   89000  ...        0        0        0        0   \n",
       "2        2.0     99.0  390000  ...        0        0        0        0   \n",
       "3        1.0     86.0   89000  ...        0        0        0        0   \n",
       "4        2.0    106.0  172000  ...        0        0        0        0   \n",
       "\n",
       "  level8Id accuracy          latitude          longitude zipCode customZone  \n",
       "0        0        0  40,2948276786438  -3,44402412135624     NaN        NaN  \n",
       "1        0        1          40,28674           -3,79351     NaN        NaN  \n",
       "2        0        0  40,4115646786438  -3,90662252135624     NaN        NaN  \n",
       "3        0        0  40,2853785786438  -3,79508142135624     NaN        NaN  \n",
       "4        0        0  40,2998774864376  -3,45226301356237     NaN        NaN  \n",
       "\n",
       "[5 rows x 37 columns]"
      ]
     },
     "execution_count": 16,
     "metadata": {},
     "output_type": "execute_result"
    }
   ],
   "source": [
    "# TODO\n",
    "ds.head()"
   ]
  },
  {
   "cell_type": "markdown",
   "id": "ce7aed60",
   "metadata": {},
   "source": [
    "Perfect, this was a small practice. Now let's begin with the real exercises!"
   ]
  },
  {
   "cell_type": "markdown",
   "id": "1221311f",
   "metadata": {},
   "source": [
    "#### Exercise 01. What is the most expensive house in the entire dataset? (★☆☆)\n",
    "\n",
    "Print the address and price of the selected house. For example:\n",
    "\n",
    "`The house located at Calle del Prado, Nº20 is the most expensive, and its price is 5000000 USD.`"
   ]
  },
  {
   "cell_type": "code",
   "execution_count": 54,
   "id": "aa45da68",
   "metadata": {},
   "outputs": [
    {
     "name": "stdout",
     "output_type": "stream",
     "text": [
      "The house located at El Escorial , Nº13110 is the most expensive, and its price is 8500000 USD.\n"
     ]
    }
   ],
   "source": [
    "# TODO\n",
    "house = ds[ds.price == max(ds.price)]\n",
    "address = house.iloc[0]['address']\n",
    "index = house.index[0]\n",
    "price = house.iloc[0]['price']\n",
    "print(f'The house located at {address} , Nº{index} is the most expensive, and its price is {price} USD.')"
   ]
  },
  {
   "cell_type": "markdown",
   "id": "8059b1b6",
   "metadata": {},
   "source": [
    "#### Exercise 02. What is the cheapest house in the dataset? (★☆☆)\n",
    "\n",
    "This exercise is similar to the previous one, except now we are looking for the house with the lowest price. Remember to print the address and price of the selected house. For example:\n",
    "\n",
    "`The house located at Calle Alcalá, Nº58 is the cheapest, and its price is 12000 USD.`\n"
   ]
  },
  {
   "cell_type": "code",
   "execution_count": 59,
   "id": "007c60de",
   "metadata": {},
   "outputs": [
    {
     "name": "stdout",
     "output_type": "stream",
     "text": [
      "The house located at Parla , Nº366 is the most expensive, and its price is 0 USD.\n"
     ]
    }
   ],
   "source": [
    "# TODO\n",
    "house = ds[ds.price == min(ds.price)]\n",
    "address = house.iloc[0]['address']\n",
    "index = house.index[0]\n",
    "price = house.iloc[0]['price']\n",
    "print(f'The house located at {address} , Nº{index} is the most expensive, and its price is {price} USD.')"
   ]
  },
  {
   "cell_type": "markdown",
   "id": "637612ca",
   "metadata": {},
   "source": [
    "#### Exercise 03. What is the largest and smallest house in the dataset? (★☆☆)\n",
    "\n",
    "Print the address and area of the selected houses. For example:\n",
    "\n",
    "`The largest house is located at Calle Gran Vía, Nº38, and its area is 5000 square meters.`\n",
    "\n",
    "`The smallest house is located at Calle Mayor, Nº12, and its area is 200 square meters.`\n",
    "\n",
    "This exercise is similar to the previous one, but we are looking for the largest and smallest houses based on their area."
   ]
  },
  {
   "cell_type": "code",
   "execution_count": 62,
   "id": "580cbc83",
   "metadata": {},
   "outputs": [
    {
     "name": "stdout",
     "output_type": "stream",
     "text": [
      "The largest house is located at Sevilla la Nueva, Nº6794, and its area is 289000 square meters.\n",
      "The smallest house is located at Calle Amparo,  Madrid Capital, Nº498, and its area is 85000 square meters.\n"
     ]
    }
   ],
   "source": [
    "# TODO\n",
    "lhouse = ds[ds.surface == max(ds.surface)]\n",
    "laddress = lhouse.iloc[0]['address']\n",
    "lindex = lhouse.index[0]\n",
    "lsurface = lhouse.iloc[0]['price']\n",
    "print(f'The largest house is located at {laddress}, Nº{lindex}, and its area is {lsurface} square meters.')\n",
    "shouse = ds[ds.surface == min(ds.surface)]\n",
    "saddress = shouse.iloc[0]['address']\n",
    "sindex = shouse.index[0]\n",
    "ssurface = shouse.iloc[0]['price']\n",
    "print(f'The smallest house is located at {saddress}, Nº{sindex}, and its area is {ssurface} square meters.')"
   ]
  },
  {
   "cell_type": "markdown",
   "id": "c92af6da",
   "metadata": {},
   "source": [
    "#### Exercise 04. How many unique populations are in the dataset? (★☆☆)\n",
    "\n",
    "Count the number of unique populations in the 'level5' column and print the names of the populations separated by commas. For example:\n",
    "\n",
    "`> print(populations)`\n",
    "\n",
    "`population1, population2, population3, ...`"
   ]
  },
  {
   "cell_type": "code",
   "execution_count": 66,
   "id": "07ef25bb",
   "metadata": {},
   "outputs": [
    {
     "name": "stdout",
     "output_type": "stream",
     "text": [
      "Arganda del Rey, Fuenlabrada, Boadilla del Monte, Las Rozas de Madrid,  Madrid Capital, Villaviciosa de Odón, Pinto, Valdemoro, Navalcarnero, Pozuelo de Alarcón, Torrejón de Ardoz, Navalagamella, San Sebastián de los Reyes, Rivas-vaciamadrid, Alpedrete, Móstoles, San Fernando de Henares, Coslada, Becerril de la Sierra, Alcalá de Henares, Chinchón, Parla, Alcorcón, El Escorial, Leganés, Pedrezuela, Majadahonda, Villanueva de la Cañada, Villanueva del Pardillo, Torrelodones, Moralzarzal, Mejorada del Campo, Aranjuez, Corpa, Getafe, Velilla de San Antonio, Sevilla la Nueva, San Martín de la Vega, Villalbilla, Collado Villalba, Alcobendas, El Molar (Madrid), Moraleja de Enmedio, Algete, Campo Real, Torrejón de la Calzada, Colmenar Viejo, Valdemorillo, Fuente El Saz de Jarama, Tres Cantos, Arroyomolinos (Madrid), Griñón, Paracuellos de Jarama, Guadarrama, Titulcia, Galapagar, Collado Mediano, Los Molinos, San Lorenzo de El Escorial, Loeches, San Martín de Valdeiglesias, Navas del Rey, Bustarviejo, Manzanares El Real, Carabaña, Casarrubuelos, Cercedilla, Fresnedillas de la Oliva, Valdemaqueda, Robledo de Chavela, Miraflores de la Sierra, Humanes de Madrid, Valdetorres de Jarama, San Agustín del Guadalix, Ciempozuelos, Camarma de Esteruelas, Torres de la Alameda, Talamanca de Jarama, El Atazar, Hoyo de Manzanares, El Boalo - Cerceda – Mataelpino, El Álamo, Valdilecha, Valdeolmos-Alalpardo, Guadalix de la Sierra, Belmonte de Tajo, El Vellón, Brunete, Redueña, Morata de Tajuña, Tielmes, Gargantilla del Lozoya, Meco, Venturada, Quijorna, Cenicientos, Torrejón de Velasco, Navacerrada, Santa María de la Alameda, Orusco de Tajuña, Daganzo de Arriba, Villamanta, Anchuelo, Valdaracete, Ajalvir, Los Santos de la Humosa, Villamanrique de Tajo, Colmenar de Oreja, Villa del Prado, Fuentidueña de Tajo, Colmenar del Arroyo, Valdelaguna, Cubas de la Sagra, Valdeavero, Aldea del Fresno, Ribatejada, Torrelaguna, Batres, Pezuela de las Torres, Colmenarejo, Serranillos del Valle, Cobeña, Soto del Real, El Berrueco, Villanueva de Perales, Fresno de Torote - Serracines, Pozuelo del Rey, Pelayos de la Presa, La Cabrera, Nuevo Baztán, Perales de Tajuña, Villaconejos, Villarejo de Salvanés, Cadalso de los Vidrios, Santorcaz, Madarcos, Garganta de los Montes, Puentes Viejas, Torremocha de Jarama, Valdemanco, Braojos, Lozoyuela-navas-sieteiglesias, Piñuécar-gandullas, Valdepiélagos, Valverde de Alcalá, Villar del Olmo, Villamantilla, Horcajo de la Sierra, Gascones, Zarzalejo, Villavieja del Lozoya, Brea de Tajo, Estremera, Chapinería, Navarredonda, Patones, Ambite, Navalafuente, Lozoya, Canencia, Cabanillas de la Sierra, Buitrago del Lozoya, Fresno de Torote, Robregordo, Pinilla del Valle, Rascafría, La Hiruela, Montejo de la Sierra\n"
     ]
    }
   ],
   "source": [
    "# TODO\n",
    "names = ', '.join(ds['level5'].unique())\n",
    "print(names)"
   ]
  },
  {
   "cell_type": "markdown",
   "id": "08fda078",
   "metadata": {},
   "source": [
    "#### Exercise 05. Does the dataset contain null values (NAs)? (★☆☆)\n",
    "\n",
    "Print a boolean (`True` or `False`) to check if there are null values, followed by the columns that contain NAs."
   ]
  },
  {
   "cell_type": "code",
   "execution_count": 69,
   "id": "7eb98e35",
   "metadata": {},
   "outputs": [
    {
     "name": "stdout",
     "output_type": "stream",
     "text": [
      "True\n",
      "Columns with null values: realEstate_name, phone_realEstate, rooms, bathrooms, surface, description, level4, level6, level7, level8, zipCode, customZone\n"
     ]
    }
   ],
   "source": [
    "# TODO\n",
    "has_nulls = ds.isnull().values.any()\n",
    "print(has_nulls)\n",
    "null_columns = ds.columns[ds.isnull().any()].tolist()\n",
    "print(f\"Columns with null values: {', '.join(null_columns) if null_columns else 'None'}\")\n"
   ]
  },
  {
   "cell_type": "markdown",
   "id": "a8b31e50",
   "metadata": {},
   "source": [
    "#### Exercise 06. Remove the null values (NAs) from the dataset, if applicable (★★☆)\n",
    "\n",
    "After removing the null values, compare the size of the DataFrame before and after the removal."
   ]
  },
  {
   "cell_type": "code",
   "execution_count": 77,
   "id": "9f174338",
   "metadata": {},
   "outputs": [
    {
     "name": "stdout",
     "output_type": "stream",
     "text": [
      "383375\n",
      "567395\n"
     ]
    }
   ],
   "source": [
    "# TODO\n",
    "dsnew = ds.drop(null_columns, axis=1)\n",
    "print(dsnew.size)\n",
    "print(ds.size)\n"
   ]
  },
  {
   "cell_type": "markdown",
   "id": "71fd820e",
   "metadata": {},
   "source": [
    "#### Exercise 07. What is the average price in the population of \"Arroyomolinos (Madrid)\"? (★★☆)\n",
    "\n",
    "Print the value obtained from the 'level5' column."
   ]
  },
  {
   "cell_type": "code",
   "execution_count": 83,
   "id": "2a495ff1",
   "metadata": {},
   "outputs": [
    {
     "name": "stdout",
     "output_type": "stream",
     "text": [
      "level5\n",
      "Arroyomolinos (Madrid)    294541.59854\n",
      "Name: price, dtype: float64\n"
     ]
    }
   ],
   "source": [
    "# TODO\n",
    "filter = ds[ds.level5 == 'Arroyomolinos (Madrid)']\n",
    "mean_values = filter.groupby('level5')['price'].mean()\n",
    "print(mean_values)"
   ]
  },
  {
   "cell_type": "markdown",
   "id": "75911380",
   "metadata": {},
   "source": [
    "#### Exercise 08. Plot the histogram of prices for the population of \"Arroyomolinos (Madrid)\" and explain what you observe (★★☆)\n",
    "\n",
    "Print the histogram of the prices and write a brief analysis of the plot in the Markdown cell."
   ]
  },
  {
   "cell_type": "code",
   "execution_count": null,
   "id": "070c7ed3",
   "metadata": {},
   "outputs": [
    {
     "data": {
      "image/png": "[encoded data removed]",
      "text/plain": [
       "<Figure size 1000x500 with 1 Axes>"
      ]
     },
     "metadata": {},
     "output_type": "display_data"
    }
   ],
   "source": [
    "import matplotlib.pyplot as plt\n",
    "\n",
    "plt.figure(figsize = (10, 5))\n",
    "\n",
    "plt.hist(filter.price, bins = 30, alpha = 0.7)\n",
    "\n",
    "plt.title(\"Histogram\")\n",
    "plt.show()"
   ]
  },
  {
   "cell_type": "markdown",
   "id": "0e81bc8f",
   "metadata": {},
   "source": [
    "It seems that the population of Arroyomolinos (Madrid) have access to more houses with the price range between 200000 and 400000. "
   ]
  }
 ],
 "metadata": {
  "kernelspec": {
   "display_name": "Python 3",
   "language": "python",
   "name": "python3"
  },
  "language_info": {
   "codemirror_mode": {
    "name": "ipython",
    "version": 3
   },
   "file_extension": ".py",
   "mimetype": "text/x-python",
   "name": "python",
   "nbconvert_exporter": "python",
   "pygments_lexer": "ipython3",
   "version": "3.11.4"
  }
 },
 "nbformat": 4,
 "nbformat_minor": 5
}
